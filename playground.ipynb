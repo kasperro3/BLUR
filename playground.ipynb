{
 "cells": [
  {
   "cell_type": "code",
   "execution_count": 4,
   "metadata": {},
   "outputs": [
    {
     "data": {
      "text/plain": [
       "('compound',\n",
       " 'space',\n",
       " 'text',\n",
       " 'font',\n",
       " 'foreground',\n",
       " 'underline',\n",
       " 'width',\n",
       " 'anchor',\n",
       " 'justify',\n",
       " 'wraplength',\n",
       " 'embossed',\n",
       " 'image',\n",
       " 'stipple',\n",
       " 'background')"
      ]
     },
     "execution_count": 4,
     "metadata": {},
     "output_type": "execute_result"
    }
   ],
   "source": [
    "from tkinter import ttk\n",
    "\n",
    "style = ttk.Style()\n",
    "style.layout(\"Canvas\")\n",
    "# style.element_options()\n"
   ]
  },
  {
   "cell_type": "code",
   "execution_count": null,
   "metadata": {},
   "outputs": [],
   "source": []
  }
 ],
 "metadata": {
  "kernelspec": {
   "display_name": "Python 3",
   "language": "python",
   "name": "python3"
  },
  "language_info": {
   "codemirror_mode": {
    "name": "ipython",
    "version": 3
   },
   "file_extension": ".py",
   "mimetype": "text/x-python",
   "name": "python",
   "nbconvert_exporter": "python",
   "pygments_lexer": "ipython3",
   "version": "3.12.6"
  }
 },
 "nbformat": 4,
 "nbformat_minor": 2
}
